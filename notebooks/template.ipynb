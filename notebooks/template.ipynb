{
 "cells": [
  {
   "attachments": {},
   "cell_type": "markdown",
   "id": "0a1042cd",
   "metadata": {},
   "source": [
    "# A descriptive title\n",
    "\n",
    "A short description of what this notebook is doing."
   ]
  },
  {
   "cell_type": "markdown",
   "id": "a486fec1",
   "metadata": {},
   "source": [
    "## Library imports"
   ]
  },
  {
   "cell_type": "code",
   "execution_count": 1,
   "id": "fd119f55-1837-43ca-8368-e12c55652f2b",
   "metadata": {},
   "outputs": [
    {
     "name": "stderr",
     "output_type": "stream",
     "text": [
      "Global seed set to 0\n"
     ]
    }
   ],
   "source": [
    "import scanpy as sc\n",
    "\n",
    "from fancypackage import DATA_DIR, FIG_DIR"
   ]
  },
  {
   "attachments": {},
   "cell_type": "markdown",
   "id": "b6b48f3e-9560-47d4-bd6d-25aa5db08c13",
   "metadata": {},
   "source": [
    "## General settings"
   ]
  },
  {
   "cell_type": "code",
   "execution_count": 4,
   "id": "d83dfd1f-3a26-4e26-a06e-26a975e4a48f",
   "metadata": {},
   "outputs": [],
   "source": [
    "SAVE_FIGURES = False\n",
    "if SAVE_FIGURES:\n",
    "    FIG_DIR.mkdir(parents=True, exist_ok=True)\n",
    "\n",
    "FIGURE_FORMATE = \"pdf\""
   ]
  },
  {
   "attachments": {},
   "cell_type": "markdown",
   "id": "e2670fad",
   "metadata": {},
   "source": [
    "## Constants"
   ]
  },
  {
   "cell_type": "markdown",
   "id": "e4b7e465",
   "metadata": {},
   "source": [
    "## Function definitions"
   ]
  },
  {
   "attachments": {},
   "cell_type": "markdown",
   "id": "01d6a832-9635-4888-8364-3e5736c8d8af",
   "metadata": {},
   "source": [
    "## Data loading"
   ]
  },
  {
   "cell_type": "code",
   "execution_count": null,
   "id": "2baf9be8",
   "metadata": {},
   "outputs": [],
   "source": [
    "adata = sc.read(DATA_DIR / \"adata.h5ad\")\n",
    "adata"
   ]
  },
  {
   "attachments": {},
   "cell_type": "markdown",
   "id": "a52d5add-d75b-4e84-8336-e9632460a818",
   "metadata": {},
   "source": [
    "## Data preprocessing"
   ]
  },
  {
   "attachments": {},
   "cell_type": "markdown",
   "id": "813851f0-53a8-4f32-8899-9c9e4083a16c",
   "metadata": {},
   "source": [
    "## More advanced data analysis"
   ]
  }
 ],
 "metadata": {
  "kernelspec": {
   "display_name": "cr2-py38",
   "language": "python",
   "name": "cr2-py38"
  },
  "language_info": {
   "codemirror_mode": {
    "name": "ipython",
    "version": 3
   },
   "file_extension": ".py",
   "mimetype": "text/x-python",
   "name": "python",
   "nbconvert_exporter": "python",
   "pygments_lexer": "ipython3",
   "version": "3.8.16"
  }
 },
 "nbformat": 4,
 "nbformat_minor": 5
}
